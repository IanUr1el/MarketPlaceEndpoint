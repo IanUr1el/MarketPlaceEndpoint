{
 "cells": [
  {
   "cell_type": "code",
   "execution_count": null,
   "id": "ccfd6d14-fd76-4614-b6d5-e7bc0daef89d",
   "metadata": {},
   "outputs": [],
   "source": [
    "import requests\n",
    "\n",
    "# 🔑 Autenticación OAuth 2.0 con Bearer Token\n",
    "barer_token = \"AAAAAAAAAAAAAAAAAAAAAMwdzAEAAAAAUzaf3MhJp7ldNaDNtqxoJRcXoNA%3DzIJW3HMmgyIwdyFkexcc8d3xCgHpfIUezhNWvdjScVlFIxtWJV\"\n",
    "\n",
    "user_id = \"145019819\"  # ID de CocaCola\n",
    "url = f\"https://api.twitter.com/2/users/{user_id}/tweets\"\n",
    "\n",
    "# 🔐 Configurar cabeceras con Bearer Token\n",
    "headers = {\n",
    "    \"Authorization\": f\"Bearer {barer_token}\",\n",
    "    \"Content-Type\": \"application/json\"\n",
    "}\n",
    "\n",
    "# 🚀 Hacer la petición GET\n",
    "response = requests.get(url, headers=headers)\n",
    "\n",
    "# 📌 Verificar respuesta\n",
    "if response.status_code == 200:\n",
    "    data = response.json()\n",
    "    \n",
    "    print(\"📌 Respuesta completa de la API:\")\n",
    "    print(data)  # 🔹 Imprime toda la respuesta para ver su estructura\n",
    "\n",
    "    tweets = data.get(\"data\", [])  # Obtener lista de tweets\n",
    "\n",
    "    print(\"\\n📌 Últimos tweets de CocaCola:\")\n",
    "    for tweet in tweets:\n",
    "        print(f\"- {tweet.get('text')}\")\n",
    "else:\n",
    "    print(f\"Error: {response.status_code}\")\n",
    "    print(response.text)\n"
   ]
  }
 ],
 "metadata": {
  "kernelspec": {
   "display_name": "Python 3 (ipykernel)",
   "language": "python",
   "name": "python3"
  },
  "language_info": {
   "codemirror_mode": {
    "name": "ipython",
    "version": 3
   },
   "file_extension": ".py",
   "mimetype": "text/x-python",
   "name": "python",
   "nbconvert_exporter": "python",
   "pygments_lexer": "ipython3",
   "version": "3.12.8"
  }
 },
 "nbformat": 4,
 "nbformat_minor": 5
}
