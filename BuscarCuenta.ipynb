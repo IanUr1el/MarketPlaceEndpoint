{
 "cells": [
  {
   "cell_type": "code",
   "execution_count": 49,
   "id": "dff0f7c6-6b85-4e68-b6c3-e5ce707f12a7",
   "metadata": {},
   "outputs": [],
   "source": [
    "from selenium import webdriver\n",
    "from selenium.webdriver.common.by import By\n",
    "from selenium.webdriver.common.keys import Keys\n",
    "import time\n",
    "\n",
    "def google_search_links(query, max_results=10):\n",
    "    # Configurar Selenium con el controlador de Chrome\n",
    "    driver = webdriver.Chrome()  # Cambiar a otro controlador si usas otro navegador\n",
    "    driver.get(\"https://www.google.com\")\n",
    "\n",
    "    # Encontrar el cuadro de búsqueda e ingresar la consulta\n",
    "    search_box = driver.find_element(By.NAME, \"q\")\n",
    "    search_box.send_keys(query)\n",
    "    search_box.send_keys(Keys.RETURN)  # Simular presionar \"Enter\"\n",
    "    \n",
    "    # Esperar a que se carguen los resultados\n",
    "    time.sleep(20)\n",
    "    \n",
    "    # Encontrar los enlaces de los resultados\n",
    "    search_results = driver.find_elements(By.XPATH, \"//div[@class='tF2Cxc']/div/a\")  # Clase específica para resultados\n",
    "    links = [result.get_attribute(\"href\") for result in search_results]\n",
    "\n",
    "    # Limitar los resultados si se solicita\n",
    "    links = links[:max_results]\n",
    "\n",
    "    # Cerrar el navegador\n",
    "    driver.quit()\n",
    "    \n",
    "    return links\n",
    "\n",
    "# Llamar a la función\n",
    "query = \"cocacola\"\n",
    "links = google_search_links(query)\n",
    "for i, link in enumerate(links, start=1):\n",
    "    print(f\"{i}. {link}\")\n"
   ]
  },
  {
   "cell_type": "code",
   "execution_count": 50,
   "id": "0c7ba340-a2f9-41c8-9dd4-cda826d2efb2",
   "metadata": {},
   "outputs": [
    {
     "ename": "TypeError",
     "evalue": "search() got an unexpected keyword argument 'tld'",
     "output_type": "error",
     "traceback": [
      "\u001b[1;31m---------------------------------------------------------------------------\u001b[0m",
      "\u001b[1;31mTypeError\u001b[0m                                 Traceback (most recent call last)",
      "Cell \u001b[1;32mIn[50], line 12\u001b[0m\n\u001b[0;32m      9\u001b[0m         urls\u001b[38;5;241m.\u001b[39mappend(j)\n\u001b[0;32m     10\u001b[0m     url \u001b[38;5;241m=\u001b[39m \u001b[38;5;28mstr\u001b[39m(urls[\u001b[38;5;241m0\u001b[39m])\n\u001b[1;32m---> 12\u001b[0m search(\u001b[38;5;124m'\u001b[39m\u001b[38;5;124mcocacola\u001b[39m\u001b[38;5;124m'\u001b[39m)\n",
      "Cell \u001b[1;32mIn[50], line 8\u001b[0m, in \u001b[0;36msearch\u001b[1;34m(query)\u001b[0m\n\u001b[0;32m      5\u001b[0m     \u001b[38;5;28;01mpass\u001b[39;00m\n\u001b[0;32m      7\u001b[0m urls \u001b[38;5;241m=\u001b[39m []\n\u001b[1;32m----> 8\u001b[0m \u001b[38;5;28;01mfor\u001b[39;00m j \u001b[38;5;129;01min\u001b[39;00m search(query, tld\u001b[38;5;241m=\u001b[39m\u001b[38;5;124m\"\u001b[39m\u001b[38;5;124mcom\u001b[39m\u001b[38;5;124m\"\u001b[39m, num\u001b[38;5;241m=\u001b[39m\u001b[38;5;241m10\u001b[39m, stop\u001b[38;5;241m=\u001b[39m\u001b[38;5;241m10\u001b[39m, pause\u001b[38;5;241m=\u001b[39m\u001b[38;5;241m2\u001b[39m):\n\u001b[0;32m      9\u001b[0m     urls\u001b[38;5;241m.\u001b[39mappend(j)\n\u001b[0;32m     10\u001b[0m url \u001b[38;5;241m=\u001b[39m \u001b[38;5;28mstr\u001b[39m(urls[\u001b[38;5;241m0\u001b[39m])\n",
      "\u001b[1;31mTypeError\u001b[0m: search() got an unexpected keyword argument 'tld'"
     ]
    }
   ],
   "source": [
    "def search(query):\n",
    "    try: \n",
    "        from googlesearch import search\n",
    "    except:\n",
    "        pass\n",
    "    \n",
    "    urls = []\n",
    "    for j in search(query, tld=\"com\", num=10, stop=10, pause=2):\n",
    "        urls.append(j)\n",
    "    url = str(urls[0])\n",
    "\n",
    "search('cocacola')"
   ]
  },
  {
   "cell_type": "code",
   "execution_count": null,
   "id": "c70d639e-f7a4-4021-918f-162bb4ca6c9f",
   "metadata": {},
   "outputs": [],
   "source": []
  }
 ],
 "metadata": {
  "kernelspec": {
   "display_name": "Python 3 (ipykernel)",
   "language": "python",
   "name": "python3"
  },
  "language_info": {
   "codemirror_mode": {
    "name": "ipython",
    "version": 3
   },
   "file_extension": ".py",
   "mimetype": "text/x-python",
   "name": "python",
   "nbconvert_exporter": "python",
   "pygments_lexer": "ipython3",
   "version": "3.12.8"
  }
 },
 "nbformat": 4,
 "nbformat_minor": 5
}
