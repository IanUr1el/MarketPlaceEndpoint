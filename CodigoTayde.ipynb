{
 "cells": [
  {
   "cell_type": "code",
   "execution_count": 2,
   "id": "89c1e036-ad71-4236-8602-7af8fc7d42fb",
   "metadata": {},
   "outputs": [],
   "source": [
    "import tweepy\n",
    "import speech_recognition as sr\n",
    "recognizer = sr.Recognizer()\n",
    "# Librería para convertir texto a voz\n",
    "import pyttsx3 \n",
    "import json"
   ]
  },
  {
   "cell_type": "code",
   "execution_count": 3,
   "id": "39754ba1-2549-4ead-aa16-2d6065a45442",
   "metadata": {},
   "outputs": [],
   "source": [
    "# Configuración de la API de Twitter\n",
    "def configure_twitter_api():\n",
    "    consumer_key = 'ecuv52uxa5P5l1WbjDHU56gK0'\n",
    "    consumer_secret = 'PIoSipidvhB5HgqWSl8iskVrMnPfV8Je60TsZg2uY62LmvmVXg'\n",
    "    access_token = '1877758635545415680-Xk7lBzQKn5NmvOSSQdIkhHAZRAcaC3'\n",
    "    access_token_secret = '21o3vWrnd3H2YYhe9eLKqRoY8rkSgWQesfA7ynoLdqEyU'\n",
    "\n",
    "    auth = tweepy.OAuthHandler(consumer_key, consumer_secret)\n",
    "    auth.set_access_token(access_token, access_token_secret)\n",
    "    api = tweepy.API(auth, wait_on_rate_limit=True)\n",
    "    return api"
   ]
  },
  {
   "cell_type": "code",
   "execution_count": 4,
   "id": "28ec8492-7002-4352-86e2-57e70e16df11",
   "metadata": {},
   "outputs": [],
   "source": [
    "# Función para indexar tweets\n",
    "def fetch_tweets(api, hashtag):\n",
    "    try:\n",
    "        tweets = tweepy.Cursor(api.search_tweets, q=hashtag, lang=\"es\", tweet_mode='extended').items(50)\n",
    "        data = []\n",
    "        for tweet in tweets:\n",
    "            data.append({\n",
    "                \"id\": tweet.id,\n",
    "                \"user\": tweet.user.screen_name,\n",
    "                \"content\": tweet.full_text,\n",
    "                \"created_at\": str(tweet.created_at)\n",
    "            })\n",
    "        # Guardar en un archivo JSON\n",
    "        with open('tweets.json', 'w', encoding='utf-8') as file:\n",
    "            json.dump(data, file, ensure_ascii=False, indent=4)\n",
    "        print(\"Tweets guardados exitosamente.\")\n",
    "    except Exception as e:\n",
    "        print(f\"Error al recuperar tweets: {e}\")"
   ]
  },
  {
   "cell_type": "code",
   "execution_count": 5,
   "id": "d0789123-fe0f-4be0-933c-38ef43bf8e03",
   "metadata": {},
   "outputs": [],
   "source": [
    "def listen_command():\n",
    "    recognizer = sr.Recognizer()\n",
    "    with sr.Microphone() as source:\n",
    "        speak(\"Escuchando comando...\")\n",
    "        try:\n",
    "            # Primer intento de captura de comando\n",
    "            audio1 = recognizer.listen(source, timeout=20, phrase_time_limit=10)\n",
    "            command = recognizer.recognize_google(audio1)\n",
    "            print(\"Comando detectado:\", command)\n",
    "            return command\n",
    "        except sr.WaitTimeoutError:\n",
    "            speak(\"No se detectó ningún comando.\")\n",
    "        except sr.UnknownValueError:\n",
    "            speak(\"No se pudo entender el comando.\")\n",
    "        except sr.RequestError:\n",
    "            speak(\"Error en la solicitud de la API de Google.\")\n",
    "    return None"
   ]
  },
  {
   "cell_type": "code",
   "execution_count": 6,
   "id": "c765079d-cda9-485d-8953-9d7488f9ab94",
   "metadata": {},
   "outputs": [],
   "source": [
    "def speak(text):\n",
    "    engine = pyttsx3.init()\n",
    "    engine.say(text)\n",
    "    print(text)\n",
    "    engine.runAndWait()"
   ]
  },
  {
   "cell_type": "code",
   "execution_count": 7,
   "id": "41c196e4-15c4-47ad-b7b5-b446aa8843ae",
   "metadata": {},
   "outputs": [],
   "source": [
    "def main():\n",
    "    speak(\"Sistema iniciado.\")\n",
    "    api = configure_twitter_api()\n",
    "    recognizer = sr.Recognizer()\n",
    "    while True:\n",
    "        command = listen_command()\n",
    "        # Generar respuesta en voz\n",
    "        speak(f\"Escuché {command}. ¿Quieres analizar esta empresa o negocio?\")\n",
    "        \n",
    "        with sr.Microphone() as source:\n",
    "            print(\"Escuchando confirmación...\")\n",
    "            try:\n",
    "                # Primer intento de captura de comando\n",
    "                audio2 = recognizer.listen(source, timeout=20, phrase_time_limit=10)\n",
    "                command = recognizer.recognize_google(audio2)\n",
    "                if command:\n",
    "                    if \"sí\" in command.lower():  # Agrega la condición para detener la búsqueda si es 'sí'\n",
    "                        speak(\"Deteniendo la búsqueda de comando.\")\n",
    "                        break\n",
    "                    elif \"no\" in command.lower():\n",
    "                        speak(\"Entendido, continuando con la búsqueda.\")\n",
    "            except sr.WaitTimeoutError:\n",
    "                speak(\"No se detectó la confirmación.\")\n",
    "            except sr.UnknownValueError:\n",
    "                speak(\"No se pudo entender la confirmación.\")\n",
    "            except sr.RequestError:\n",
    "                speak(\"Error en la solicitud de la API de Google.\")\n",
    "        return speak(\"Fin\")"
   ]
  },
  {
   "cell_type": "code",
   "execution_count": 10,
   "id": "865e4cad-eede-486c-bbc1-9ecaf9476208",
   "metadata": {},
   "outputs": [
    {
     "name": "stdout",
     "output_type": "stream",
     "text": [
      "Sistema iniciado.\n",
      "Escuchando comando...\n",
      "Comando detectado: Coca-Cola\n",
      "Escuché Coca-Cola. ¿Quieres analizar esta empresa o negocio?\n",
      "Escuchando confirmación...\n",
      "No se pudo entender la confirmación.\n",
      "Fin\n"
     ]
    }
   ],
   "source": [
    "if __name__ == \"__main__\":\n",
    "    main()"
   ]
  },
  {
   "cell_type": "code",
   "execution_count": null,
   "id": "f78404cb-20ff-42f5-99e3-c68973068611",
   "metadata": {},
   "outputs": [],
   "source": []
  }
 ],
 "metadata": {
  "kernelspec": {
   "display_name": "Python 3 (ipykernel)",
   "language": "python",
   "name": "python3"
  },
  "language_info": {
   "codemirror_mode": {
    "name": "ipython",
    "version": 3
   },
   "file_extension": ".py",
   "mimetype": "text/x-python",
   "name": "python",
   "nbconvert_exporter": "python",
   "pygments_lexer": "ipython3",
   "version": "3.12.8"
  }
 },
 "nbformat": 4,
 "nbformat_minor": 5
}
