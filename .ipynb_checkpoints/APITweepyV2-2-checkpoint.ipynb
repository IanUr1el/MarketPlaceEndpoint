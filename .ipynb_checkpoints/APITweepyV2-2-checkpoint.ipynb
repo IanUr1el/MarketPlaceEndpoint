{
 "cells": [
  {
   "cell_type": "code",
   "execution_count": 4,
   "id": "c1d9e55e-23e7-4357-92d0-caa47ad63927",
   "metadata": {},
   "outputs": [],
   "source": [
    "import tweepy\n",
    "import time\n",
    "import json\n",
    "import speech_recognition as sr\n",
    "recognizer = sr.Recognizer()\n",
    "import pyttsx3 \n",
    "\n",
    "bearer_token = 'AAAAAAAAAAAAAAAAAAAAAKgSyQEAAAAAdO5iRe0vzyOHTQ9u%2B8jx66yQvEM%3DXlNRezskI4JXeHF5eQxx1XCUMBg9I2JGNvcxpuVfP95l5wlE1t'\n",
    "consumer_key = 'RlyjyYEh8D4XMfOnq7sHH53lF'\n",
    "consumer_secret = 'Vh1lcDpIDrBx07lBMFs8NyleDFK81Gi4Q7cP9RU4wdbRDI2tEP'\n",
    "access_token = '1877804744132931584-kbdfA3jPOnY1HbrhC4sbUnvDLxY57S'\n",
    "access_token_secret = 'kkv3aLromsqNnmLCdni41bWrAQhxZ6jCNQlkhQu84pfAn'\n",
    "# Crear el cliente de la API\n",
    "auth = tweepy.OAuth1UserHandler(\n",
    "    consumer_key, consumer_secret\n",
    ")\n",
    "auth.set_access_token(access_token, access_token_secret)\n",
    "api = tweepy.API(auth)\n",
    "\n",
    "client = tweepy.Client(bearer_token=bearer_token)"
   ]
  },
  {
   "cell_type": "code",
   "execution_count": 16,
   "id": "5fabb0a4-f672-4d95-aa85-1cc401c6ee36",
   "metadata": {},
   "outputs": [],
   "source": [
    "#Funciona\n",
    "def obtener_usernames_por_texto(client, texto, max_results=99, wait_time=30):\n",
    "    usernames = []\n",
    "    try:\n",
    "        # Busca tweets recientes que contengan el texto\n",
    "        response = client.search_recent_tweets(\n",
    "            query=texto,\n",
    "            tweet_fields=[\"author_id\"],\n",
    "            expansions=[\"author_id\"],\n",
    "            max_results=max_results\n",
    "        )\n",
    "        \n",
    "        if \"users\" in response.includes:\n",
    "            for user in response.includes[\"users\"]:\n",
    "                usernames.append(user[\"username\"])\n",
    "        return usernames\n",
    "    except tweepy.errors.TooManyRequests:\n",
    "        print(f\"Demasiadas solicitudes. Esperando {wait_time} segundos...\")\n",
    "        time.sleep(wait_time)\n",
    "        return obtener_usernames_por_texto(client, texto, max_results, wait_time=wait_time)\n",
    "    except Exception as e:\n",
    "        print(f\"Error al obtener usernames: {e}\")\n",
    "        return usernames"
   ]
  },
  {
   "cell_type": "code",
   "execution_count": 6,
   "id": "674f1ed0-eefc-45b6-bf1c-605e84de0a3a",
   "metadata": {},
   "outputs": [],
   "source": [
    "#Funciona\n",
    "def cuenta_verificada(username, wait_time = 30):\n",
    "\n",
    "    try: \n",
    "        user = client.get_user(username=username, user_fields = ['id', 'username', 'name', 'created_at', 'location', 'description', 'public_metrics', 'verified'])\n",
    "        \n",
    "        user_data = user.data\n",
    "        \n",
    "        print(f\"Nombre: {user_data.name}\")\n",
    "        print(f\"Usuario: {user_data.username}\")\n",
    "        print(f\"ID: {user_data.id}\")\n",
    "        print(f\"Fecha de Creacion: {user_data.created_at}\")\n",
    "        print(f\"Descripcion: {user_data.description}\")\n",
    "        print(f\"Locacion: {user_data.location}\")\n",
    "        print(f\"Seguidores: {user_data.public_metrics['followers_count']}\")\n",
    "        print(f\"Seguidos: {user_data.public_metrics['following_count']}\")\n",
    "        \n",
    "        if user_data.verified:\n",
    "            print(f\"{user_data.name} es una cuenta verificada\")\n",
    "        else:\n",
    "            print(f\"{user_data.name} NO es una cuenta verificada\")\n",
    "        \n",
    "        return user_data\n",
    "        \n",
    "    except tweepy.errors.TooManyRequests:\n",
    "        print(f\"Demasiadas solicitudes. Esperando {wait_time} segundos...\")\n",
    "        time.sleep(wait_time)\n",
    "        return cuenta_verificada(username, wait_time=wait_time)\n",
    "    except tweepy.errors.NotFound:\n",
    "        print(\"La cuenta no existe.\")\n",
    "    except tweepy.TweepyException as e:\n",
    "        print(f\"Error al recuperar información: {e}\")\n",
    "    except Exception as e:\n",
    "        print(f\"Ocurrió un error inesperado: {e}\")"
   ]
  },
  {
   "cell_type": "code",
   "execution_count": 7,
   "id": "dc2b1c0a-7130-4622-82cd-2ef6dda6a7c3",
   "metadata": {},
   "outputs": [],
   "source": [
    "#Funciona\n",
    "def buscar_tweets_en_cuenta(username, wait_time=30, max_results=10):\n",
    "    query = f\"from:{username}\"  # Filtra tweets del usuario especificado\n",
    "    while True:\n",
    "        try:\n",
    "            response = client.search_recent_tweets(query=query, max_results=max_results, tweet_fields=['created_at', 'text'])\n",
    "            if response.data:\n",
    "                print(f\"Tweets de @{username}:\")\n",
    "                for tweet in response.data:\n",
    "                    print(f\"\\nFecha: {tweet.created_at}\")\n",
    "                    print(f\"Tweet: {tweet.text}\")\n",
    "            else:\n",
    "                print(f\"No se encontraron tweets recientes para la cuenta @{username}.\")\n",
    "            break\n",
    "        except Exception as e:\n",
    "            if \"429\" in str(e):\n",
    "                print(f\"Demasiadas solicitudes. Esperando {wait_time} segundos...\")\n",
    "                time.sleep(wait_time)\n",
    "            else:\n",
    "                print(f\"Otro error ocurrió: {e}\")\n",
    "                break\n"
   ]
  },
  {
   "cell_type": "code",
   "execution_count": 36,
   "id": "6f9466bc-b83b-4721-ac1e-5e1bb8e6658c",
   "metadata": {},
   "outputs": [],
   "source": [
    "#Con la version 1.1 deberia funcionar este, verificar credenciales\n",
    "#No funciono tampoco con la version 1.1, esta obsoleto.\n",
    "def buscar_usuarios(query, wait_time=30):\n",
    "    try:\n",
    "        users = api.search_users(query, user_fields=[\"username\", \"id\"])\n",
    "        for user in users.data:\n",
    "            print(user.username)\n",
    "            \n",
    "    except tweepy.errors.TooManyRequests:\n",
    "        print(f\"Demasiadas solicitudes. Esperando {wait_time} segundos...\")\n",
    "        time.sleep(wait_time)\n",
    "        return cuenta_verificada(username, wait_time=wait_time)\n",
    "    except tweepy.TweepyException as e:\n",
    "        print(f\"Error al recuperar información: {e}\")\n",
    "    except Exception as e:\n",
    "        print(f\"Ocurrió un error inesperado: {e}\")\n"
   ]
  },
  {
   "cell_type": "code",
   "execution_count": 11,
   "id": "6d0bacb1-1d80-4f1a-b344-7457d2965a84",
   "metadata": {},
   "outputs": [
    {
     "name": "stdout",
     "output_type": "stream",
     "text": [
      "Nombre: Coca-Cola México\n",
      "Usuario: CocaColaMx\n",
      "ID: 145019819\n",
      "Fecha de Creacion: 2010-05-17 23:03:04+00:00\n",
      "Descripcion: Lleva #LaMagiaDeVerdad a la mesa con Coca-Cola Sin Azúcar. 🥤✨❤️\n",
      "Locacion: México\n",
      "Seguidores: 735281\n",
      "Seguidos: 33\n",
      "Coca-Cola México es una cuenta verificada\n"
     ]
    },
    {
     "data": {
      "text/plain": [
       "<User id=145019819 name=Coca-Cola México username=CocaColaMx>"
      ]
     },
     "execution_count": 11,
     "metadata": {},
     "output_type": "execute_result"
    }
   ],
   "source": [
    "cuenta_verificada('cocacolamx')"
   ]
  },
  {
   "cell_type": "code",
   "execution_count": 33,
   "id": "ee5cdff8-9dfc-476d-93c9-02a46b3fdf50",
   "metadata": {},
   "outputs": [
    {
     "name": "stderr",
     "output_type": "stream",
     "text": [
      "Unexpected parameter: user_fields\n"
     ]
    },
    {
     "name": "stdout",
     "output_type": "stream",
     "text": [
      "Error al recuperar información: 403 Forbidden\n",
      "453 - You currently have access to a subset of X API V2 endpoints and limited v1.1 endpoints (e.g. media post, oauth) only. If you need access to this endpoint, you may need a different access level. You can learn more here: https://developer.x.com/en/portal/product\n"
     ]
    }
   ],
   "source": [
    "buscar_usuarios('cocacola')"
   ]
  },
  {
   "cell_type": "code",
   "execution_count": 35,
   "id": "1cf890eb-dafc-48bd-b4be-913317badd07",
   "metadata": {},
   "outputs": [
    {
     "name": "stdout",
     "output_type": "stream",
     "text": [
      "Demasiadas solicitudes. Esperando 30 segundos...\n",
      "Demasiadas solicitudes. Esperando 30 segundos...\n",
      "Demasiadas solicitudes. Esperando 30 segundos...\n",
      "Demasiadas solicitudes. Esperando 30 segundos...\n",
      "Demasiadas solicitudes. Esperando 30 segundos...\n",
      "Demasiadas solicitudes. Esperando 30 segundos...\n",
      "Demasiadas solicitudes. Esperando 30 segundos...\n",
      "Demasiadas solicitudes. Esperando 30 segundos...\n",
      "Demasiadas solicitudes. Esperando 30 segundos...\n",
      "Demasiadas solicitudes. Esperando 30 segundos...\n",
      "Demasiadas solicitudes. Esperando 30 segundos...\n",
      "Demasiadas solicitudes. Esperando 30 segundos...\n",
      "Demasiadas solicitudes. Esperando 30 segundos...\n",
      "Demasiadas solicitudes. Esperando 30 segundos...\n",
      "Demasiadas solicitudes. Esperando 30 segundos...\n",
      "Demasiadas solicitudes. Esperando 30 segundos...\n",
      "Demasiadas solicitudes. Esperando 30 segundos...\n",
      "Demasiadas solicitudes. Esperando 30 segundos...\n",
      "Demasiadas solicitudes. Esperando 30 segundos...\n",
      "Demasiadas solicitudes. Esperando 30 segundos...\n",
      "Demasiadas solicitudes. Esperando 30 segundos...\n",
      "Demasiadas solicitudes. Esperando 30 segundos...\n",
      "Demasiadas solicitudes. Esperando 30 segundos...\n",
      "Demasiadas solicitudes. Esperando 30 segundos...\n",
      "Demasiadas solicitudes. Esperando 30 segundos...\n",
      "Demasiadas solicitudes. Esperando 30 segundos...\n",
      "Demasiadas solicitudes. Esperando 30 segundos...\n",
      "Demasiadas solicitudes. Esperando 30 segundos...\n",
      "Demasiadas solicitudes. Esperando 30 segundos...\n",
      "Demasiadas solicitudes. Esperando 30 segundos...\n",
      "Tweets de @cocacolamx:\n",
      "\n",
      "Fecha: 2025-01-17 16:37:57+00:00\n",
      "Tweet: @Citlaliurr ¡Hola! Déjame ayudarte, cuéntame por DM qué pasó.\n",
      "\n",
      "Fecha: 2025-01-16 21:02:41+00:00\n",
      "Tweet: @Isma_Aguilera ¡Hola, Ismael! Quiero ayudarte, ¿me cuentas más por inbox?\n",
      "\n",
      "Fecha: 2025-01-16 17:05:56+00:00\n",
      "Tweet: @Richie_vzq ¡Hola, Ricardo! ¿Me puedes escribir por DM para seguirte atendiendo?\n",
      "\n",
      "Fecha: 2025-01-16 15:32:10+00:00\n",
      "Tweet: @Eduardo__Sanche ¡Hola, Eduardo! Quiero ayudarte, ¿me cuentas por DM lo que te pasó?\n",
      "\n",
      "Fecha: 2025-01-16 13:49:53+00:00\n",
      "Tweet: @jorgehpzeta ¡Hola! Déjame ayudarte, cuéntame por DM qué pasó.\n",
      "\n",
      "Fecha: 2025-01-15 20:57:35+00:00\n",
      "Tweet: @JPMaleArt ¡Hola! Déjame ayudarte, cuéntame por DM qué pasó.\n",
      "\n",
      "Fecha: 2025-01-14 16:12:17+00:00\n",
      "Tweet: @Monse_Lunna10 ¡Hola! ¿Me compartes por inbox en qué Municipio y Estado te encuentras junto a código postal  ¿El producto es para consumo propio o para venta? Puedes ver el aviso de privacidad en https://t.co/yZSVC3RPk8\n",
      "\n",
      "Fecha: 2025-01-13 20:13:19+00:00\n",
      "Tweet: @willducati ¡Hola! Esta información es falsa y puede llegar a constituir fraudes o robo de datos. La página oficial de Coca-Cola de México es https://t.co/Y3n3KexAGd Si tienes dudas de nuestras promociones te recomendamos que te comuniques sin costo a Hola Coca-Cola al 800 704 4400.\n",
      "\n",
      "Fecha: 2025-01-13 19:23:18+00:00\n",
      "Tweet: @hojasuave Quiero brindarte una solución.\n",
      "\n",
      "¿Me cuentas más por inbox?\n",
      "\n",
      "Fecha: 2025-01-13 16:31:52+00:00\n",
      "Tweet: @SamariaDavila Quiero ayudarte. ¿Por favor me pláticas por inbox lo que te sucedió?\n"
     ]
    }
   ],
   "source": [
    "buscar_tweets_en_cuenta('cocacolamx')"
   ]
  },
  {
   "cell_type": "code",
   "execution_count": 18,
   "id": "aa358539-1008-4b64-8972-df72ed933fb2",
   "metadata": {},
   "outputs": [
    {
     "name": "stdout",
     "output_type": "stream",
     "text": [
      "Error al obtener usernames: ('Connection aborted.', RemoteDisconnected('Remote end closed connection without response'))\n"
     ]
    },
    {
     "data": {
      "text/plain": [
       "[]"
      ]
     },
     "execution_count": 18,
     "metadata": {},
     "output_type": "execute_result"
    }
   ],
   "source": [
    "obtener_usernames_por_texto(client, texto = \"cocacola\", max_results=99)"
   ]
  },
  {
   "cell_type": "code",
   "execution_count": null,
   "id": "c7698eee-f785-4b3d-b1e6-eb7effac86f4",
   "metadata": {},
   "outputs": [],
   "source": [
    "def main(query):\n",
    "    obtener_usernames_por_texto(client, texto = query, max_results=99)\n",
    "    "
   ]
  },
  {
   "cell_type": "code",
   "execution_count": null,
   "id": "8d1a2842-75e5-4bdd-88fe-5b3dd21d0a79",
   "metadata": {},
   "outputs": [],
   "source": [
    "if __name__ == \"__main__\":\n",
    "    main()"
   ]
  }
 ],
 "metadata": {
  "kernelspec": {
   "display_name": "Python 3 (ipykernel)",
   "language": "python",
   "name": "python3"
  },
  "language_info": {
   "codemirror_mode": {
    "name": "ipython",
    "version": 3
   },
   "file_extension": ".py",
   "mimetype": "text/x-python",
   "name": "python",
   "nbconvert_exporter": "python",
   "pygments_lexer": "ipython3",
   "version": "3.12.8"
  }
 },
 "nbformat": 4,
 "nbformat_minor": 5
}
