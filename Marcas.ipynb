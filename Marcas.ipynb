{
 "cells": [
  {
   "cell_type": "code",
   "execution_count": 71,
   "id": "b3ca3aaf-6a40-4d72-8097-0a319f7fdb40",
   "metadata": {},
   "outputs": [],
   "source": [
    "import requests\n",
    "from bs4 import BeautifulSoup"
   ]
  },
  {
   "cell_type": "code",
   "execution_count": 74,
   "id": "83ade215-b455-43da-afc3-c79e5eb5cb7a",
   "metadata": {},
   "outputs": [],
   "source": [
    "def obtain_relations(query):\n",
    "    link_search = f\"https://www.x.com/search?q={query}\"\n",
    "    headers = {\"User-Agent\": \"Mozilla/5.0 (Windows NT 10.0; Win64; x64) AppleWebKit/537.36 (KHTML, like Gecko) Chrome/58.0.3029.110 Safari/537.36\"}\n",
    "    solicitude = requests.get(link_search, headers=headers)\n",
    "    soup = BeautifulSoup(solicitude.text, \"html.parser\")\n",
    "    \n",
    "    links = []\n",
    "    for result in soup.find_all(\"a\"):\n",
    "        href = result.get(\"href\")\n",
    "        if href and href.startswith(\"http\"):\n",
    "            links.append(href)\n",
    "    return links[:50]\n",
    "\n",
    "def obtain_twitter(links):\n",
    "    twitter_links = []\n",
    "    \n",
    "    for link in links:\n",
    "        try:\n",
    "            solicitude = requests.get(link, headers={\"User-Agent\": \"Mozilla/5.0 (Windows NT 10.0; Win64; x64) AppleWebKit/537.36 (KHTML, like Gecko) Chrome/58.0.3029.110 Safari/537.36\"})\n",
    "            soup = BeautifulSoup(solicitude.text, \"html.parser\")\n",
    "            \n",
    "            for result in soup.find_all(\"a\"):\n",
    "                href = result.get(\"href\")\n",
    "                if href and \"x.com\" in href:\n",
    "                    twitter_links.append(href)\n",
    "                    break\n",
    "        except Exception as e:\n",
    "            print(f\"Error al acceder a {link}: {e}\")\n",
    "    \n",
    "    return twitter_links"
   ]
  },
  {
   "cell_type": "code",
   "execution_count": 77,
   "id": "e3613d06-1db9-4942-8f9a-74e1dd35e32f",
   "metadata": {},
   "outputs": [
    {
     "name": "stdout",
     "output_type": "stream",
     "text": [
      "[]\n",
      "No se encontraron enlaces de Twitter.\n"
     ]
    }
   ],
   "source": [
    "query = \"coca cola\"\n",
    "links = obtain_relations(query)\n",
    "twitter_links = obtain_twitter(links)\n",
    "print(links)\n",
    "if twitter_links:\n",
    "    print(\"Enlaces de Twitter encontrados:\")\n",
    "    for link in twitter_links:\n",
    "        print(link)\n",
    "else:\n",
    "    print(\"No se encontraron enlaces de Twitter.\")"
   ]
  },
  {
   "cell_type": "code",
   "execution_count": 3,
   "id": "2e36cd0d-8ee2-4808-bd7c-ae27123fd7bf",
   "metadata": {},
   "outputs": [
    {
     "name": "stdout",
     "output_type": "stream",
     "text": [
      "2\n",
      "https://support.google.com/websearch\n"
     ]
    }
   ],
   "source": [
    "import requests\n",
    "from bs4 import BeautifulSoup\n",
    "\n",
    "def obtener_primeros_links(query):\n",
    "    url = f\"https://www.google.com/search?q={query}\"\n",
    "    headers = {\"User-Agent\": \"Mozilla/5.0 (Windows NT 10.0; Win64; x64) AppleWebKit/537.36 (KHTML, like Gecko) Chrome/58.0.3029.110 Safari/537.36\"}\n",
    "    \n",
    "    response = requests.get(url, headers=headers)\n",
    "    soup = BeautifulSoup(response.text, \"html.parser\")\n",
    "\n",
    "    links = []\n",
    "    for result in soup.find_all(\"a\"):\n",
    "        href = result.get(\"href\")\n",
    "        if href and href.startswith(\"http\"):\n",
    "            links.append(href)\n",
    "    \n",
    "    return links[:5]  \n",
    "    \n",
    "query = \"twitter\"\n",
    "primeros_links = obtener_primeros_links(query)\n",
    "print(\"2\")\n",
    "for link in primeros_links:\n",
    "    print(link)"
   ]
  },
  {
   "cell_type": "code",
   "execution_count": null,
   "id": "c5126d7b-71c0-4393-982b-a41412ffdfe9",
   "metadata": {},
   "outputs": [],
   "source": []
  }
 ],
 "metadata": {
  "kernelspec": {
   "display_name": "Python 3 (ipykernel)",
   "language": "python",
   "name": "python3"
  },
  "language_info": {
   "codemirror_mode": {
    "name": "ipython",
    "version": 3
   },
   "file_extension": ".py",
   "mimetype": "text/x-python",
   "name": "python",
   "nbconvert_exporter": "python",
   "pygments_lexer": "ipython3",
   "version": "3.12.8"
  }
 },
 "nbformat": 4,
 "nbformat_minor": 5
}
