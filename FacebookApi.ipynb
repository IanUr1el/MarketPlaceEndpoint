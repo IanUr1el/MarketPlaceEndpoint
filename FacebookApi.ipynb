{
 "cells": [
  {
   "cell_type": "code",
   "execution_count": 11,
   "id": "6f706383-5ca5-4643-b76e-59e17260f9fc",
   "metadata": {},
   "outputs": [
    {
     "data": {
      "text/plain": [
       "<facebook_business.api.FacebookAdsApi at 0x1c002b0e900>"
      ]
     },
     "execution_count": 11,
     "metadata": {},
     "output_type": "execute_result"
    }
   ],
   "source": [
    "import requests\n",
    "import json\n",
    "from facebook_business.api import FacebookAdsApi\n",
    "from facebook_business.adobjects.page import Page\n",
    "import re\n",
    "\n",
    "my_app_id = '915181757497456'\n",
    "my_app_secret = 'ba3aa064b98d6aae80319d2acd3d27c1'\n",
    "my_access_token = 'EAANAWluPgHABOyYb2dZC6It0siq9xIFLiUCZB8JPaBc1IOZAMEw3JaUtTOAmLHS0zBkkuLQxmmxj18A4hs50Qa82yyETIiOgPLwtsheTMd3ATwZBTJB6tlQHo0IEKRsN1CJEFNwZB2GSfUV7LvLrCBDyGtNDMFN2xUM3017BUgOBRULDCJVbVvwDhWhe9zhSzXF1WgZASbIZArCCmPsugqemtsGJZCL0KqwlcSQZD'\n",
    "\n",
    "FacebookAdsApi.init(my_app_id, my_app_secret, my_access_token)"
   ]
  },
  {
   "cell_type": "code",
   "execution_count": 13,
   "id": "a311700b-fcb8-4656-9234-32584640fb59",
   "metadata": {},
   "outputs": [
    {
     "ename": "FacebookRequestError",
     "evalue": "\n\n  Message: Call was not successful\n  Method:  GET\n  Path:    https://graph.facebook.com/v21.0/CocaColaMx/posts\n  Params:  {'limit': 5, 'fields': 'id,message,created_time', 'summary': 'true'}\n\n  Status:  400\n  Response:\n    {\n      \"error\": {\n        \"message\": \"(#10) This endpoint requires the 'pages_read_engagement' permission or the 'Page Public Content Access' feature. Refer to https://developers.facebook.com/docs/apps/review/login-permissions#manage-pages and https://developers.facebook.com/docs/apps/review/feature#reference-PAGES_ACCESS for details.\",\n        \"type\": \"OAuthException\",\n        \"code\": 10,\n        \"fbtrace_id\": \"A6J-0sah6ry4YB5p3CoEVgZ\"\n      }\n    }\n",
     "output_type": "error",
     "traceback": [
      "\u001b[1;31m---------------------------------------------------------------------------\u001b[0m",
      "\u001b[1;31mFacebookRequestError\u001b[0m                      Traceback (most recent call last)",
      "Cell \u001b[1;32mIn[13], line 4\u001b[0m\n\u001b[0;32m      1\u001b[0m page_id \u001b[38;5;241m=\u001b[39m \u001b[38;5;124m\"\u001b[39m\u001b[38;5;124mCocaColaMx\u001b[39m\u001b[38;5;124m\"\u001b[39m\n\u001b[0;32m      2\u001b[0m page \u001b[38;5;241m=\u001b[39m Page(page_id)\n\u001b[1;32m----> 4\u001b[0m posts \u001b[38;5;241m=\u001b[39m page\u001b[38;5;241m.\u001b[39mget_posts(fields\u001b[38;5;241m=\u001b[39m[\u001b[38;5;124m\"\u001b[39m\u001b[38;5;124mid\u001b[39m\u001b[38;5;124m\"\u001b[39m, \u001b[38;5;124m\"\u001b[39m\u001b[38;5;124mmessage\u001b[39m\u001b[38;5;124m\"\u001b[39m, \u001b[38;5;124m\"\u001b[39m\u001b[38;5;124mcreated_time\u001b[39m\u001b[38;5;124m\"\u001b[39m], params\u001b[38;5;241m=\u001b[39m{\u001b[38;5;124m\"\u001b[39m\u001b[38;5;124mlimit\u001b[39m\u001b[38;5;124m\"\u001b[39m: \u001b[38;5;241m5\u001b[39m})\n\u001b[0;32m      6\u001b[0m \u001b[38;5;28;01mfor\u001b[39;00m post \u001b[38;5;129;01min\u001b[39;00m posts:\n\u001b[0;32m      7\u001b[0m     \u001b[38;5;28mprint\u001b[39m(post)\n",
      "File \u001b[1;32m~\\anaconda3\\envs\\Marcas\\Lib\\site-packages\\facebook_business\\adobjects\\page.py:3903\u001b[0m, in \u001b[0;36mPage.get_posts\u001b[1;34m(self, fields, params, batch, success, failure, pending)\u001b[0m\n\u001b[0;32m   3901\u001b[0m \u001b[38;5;28;01melse\u001b[39;00m:\n\u001b[0;32m   3902\u001b[0m     \u001b[38;5;28mself\u001b[39m\u001b[38;5;241m.\u001b[39massure_call()\n\u001b[1;32m-> 3903\u001b[0m     \u001b[38;5;28;01mreturn\u001b[39;00m request\u001b[38;5;241m.\u001b[39mexecute()\n",
      "File \u001b[1;32m~\\anaconda3\\envs\\Marcas\\Lib\\site-packages\\facebook_business\\api.py:664\u001b[0m, in \u001b[0;36mFacebookRequest.execute\u001b[1;34m(self)\u001b[0m\n\u001b[0;32m    653\u001b[0m \u001b[38;5;28;01mif\u001b[39;00m \u001b[38;5;28mself\u001b[39m\u001b[38;5;241m.\u001b[39m_api_type \u001b[38;5;241m==\u001b[39m \u001b[38;5;124m\"\u001b[39m\u001b[38;5;124mEDGE\u001b[39m\u001b[38;5;124m\"\u001b[39m \u001b[38;5;129;01mand\u001b[39;00m \u001b[38;5;28mself\u001b[39m\u001b[38;5;241m.\u001b[39m_method \u001b[38;5;241m==\u001b[39m \u001b[38;5;124m\"\u001b[39m\u001b[38;5;124mGET\u001b[39m\u001b[38;5;124m\"\u001b[39m:\n\u001b[0;32m    654\u001b[0m     cursor \u001b[38;5;241m=\u001b[39m Cursor(\n\u001b[0;32m    655\u001b[0m         target_objects_class\u001b[38;5;241m=\u001b[39m\u001b[38;5;28mself\u001b[39m\u001b[38;5;241m.\u001b[39m_target_class,\n\u001b[0;32m    656\u001b[0m         params\u001b[38;5;241m=\u001b[39mparams,\n\u001b[1;32m   (...)\u001b[0m\n\u001b[0;32m    662\u001b[0m         object_parser\u001b[38;5;241m=\u001b[39m\u001b[38;5;28mself\u001b[39m\u001b[38;5;241m.\u001b[39m_response_parser,\n\u001b[0;32m    663\u001b[0m     )\n\u001b[1;32m--> 664\u001b[0m     cursor\u001b[38;5;241m.\u001b[39mload_next_page()\n\u001b[0;32m    665\u001b[0m     \u001b[38;5;28;01mreturn\u001b[39;00m cursor\n\u001b[0;32m    666\u001b[0m \u001b[38;5;28;01mif\u001b[39;00m \u001b[38;5;28mself\u001b[39m\u001b[38;5;241m.\u001b[39m_fields:\n",
      "File \u001b[1;32m~\\anaconda3\\envs\\Marcas\\Lib\\site-packages\\facebook_business\\api.py:828\u001b[0m, in \u001b[0;36mCursor.load_next_page\u001b[1;34m(self)\u001b[0m\n\u001b[0;32m    821\u001b[0m \u001b[38;5;28;01mif\u001b[39;00m (\n\u001b[0;32m    822\u001b[0m     \u001b[38;5;28mself\u001b[39m\u001b[38;5;241m.\u001b[39m_include_summary \u001b[38;5;129;01mand\u001b[39;00m\n\u001b[0;32m    823\u001b[0m     \u001b[38;5;124m'\u001b[39m\u001b[38;5;124mdefault_summary\u001b[39m\u001b[38;5;124m'\u001b[39m \u001b[38;5;129;01mnot\u001b[39;00m \u001b[38;5;129;01min\u001b[39;00m \u001b[38;5;28mself\u001b[39m\u001b[38;5;241m.\u001b[39mparams \u001b[38;5;129;01mand\u001b[39;00m\n\u001b[0;32m    824\u001b[0m     \u001b[38;5;124m'\u001b[39m\u001b[38;5;124msummary\u001b[39m\u001b[38;5;124m'\u001b[39m \u001b[38;5;129;01mnot\u001b[39;00m \u001b[38;5;129;01min\u001b[39;00m \u001b[38;5;28mself\u001b[39m\u001b[38;5;241m.\u001b[39mparams\n\u001b[0;32m    825\u001b[0m ):\n\u001b[0;32m    826\u001b[0m     \u001b[38;5;28mself\u001b[39m\u001b[38;5;241m.\u001b[39mparams[\u001b[38;5;124m'\u001b[39m\u001b[38;5;124msummary\u001b[39m\u001b[38;5;124m'\u001b[39m] \u001b[38;5;241m=\u001b[39m \u001b[38;5;28;01mTrue\u001b[39;00m\n\u001b[1;32m--> 828\u001b[0m response_obj \u001b[38;5;241m=\u001b[39m \u001b[38;5;28mself\u001b[39m\u001b[38;5;241m.\u001b[39m_api\u001b[38;5;241m.\u001b[39mcall(\n\u001b[0;32m    829\u001b[0m     \u001b[38;5;124m'\u001b[39m\u001b[38;5;124mGET\u001b[39m\u001b[38;5;124m'\u001b[39m,\n\u001b[0;32m    830\u001b[0m     \u001b[38;5;28mself\u001b[39m\u001b[38;5;241m.\u001b[39m_path,\n\u001b[0;32m    831\u001b[0m     params\u001b[38;5;241m=\u001b[39m\u001b[38;5;28mself\u001b[39m\u001b[38;5;241m.\u001b[39mparams,\n\u001b[0;32m    832\u001b[0m )\n\u001b[0;32m    833\u001b[0m response \u001b[38;5;241m=\u001b[39m response_obj\u001b[38;5;241m.\u001b[39mjson()\n\u001b[0;32m    834\u001b[0m \u001b[38;5;28mself\u001b[39m\u001b[38;5;241m.\u001b[39m_headers \u001b[38;5;241m=\u001b[39m response_obj\u001b[38;5;241m.\u001b[39mheaders()\n",
      "File \u001b[1;32m~\\anaconda3\\envs\\Marcas\\Lib\\site-packages\\facebook_business\\api.py:336\u001b[0m, in \u001b[0;36mFacebookAdsApi.call\u001b[1;34m(self, method, path, params, headers, files, url_override, api_version)\u001b[0m\n\u001b[0;32m    322\u001b[0m fb_response \u001b[38;5;241m=\u001b[39m FacebookResponse(\n\u001b[0;32m    323\u001b[0m     body\u001b[38;5;241m=\u001b[39mresponse\u001b[38;5;241m.\u001b[39mtext,\n\u001b[0;32m    324\u001b[0m     headers\u001b[38;5;241m=\u001b[39mresponse\u001b[38;5;241m.\u001b[39mheaders,\n\u001b[1;32m   (...)\u001b[0m\n\u001b[0;32m    332\u001b[0m     },\n\u001b[0;32m    333\u001b[0m )\n\u001b[0;32m    335\u001b[0m \u001b[38;5;28;01mif\u001b[39;00m fb_response\u001b[38;5;241m.\u001b[39mis_failure():\n\u001b[1;32m--> 336\u001b[0m     \u001b[38;5;28;01mraise\u001b[39;00m fb_response\u001b[38;5;241m.\u001b[39merror()\n\u001b[0;32m    338\u001b[0m \u001b[38;5;28mself\u001b[39m\u001b[38;5;241m.\u001b[39m_num_requests_succeeded \u001b[38;5;241m+\u001b[39m\u001b[38;5;241m=\u001b[39m \u001b[38;5;241m1\u001b[39m\n\u001b[0;32m    339\u001b[0m \u001b[38;5;28;01mreturn\u001b[39;00m fb_response\n",
      "\u001b[1;31mFacebookRequestError\u001b[0m: \n\n  Message: Call was not successful\n  Method:  GET\n  Path:    https://graph.facebook.com/v21.0/CocaColaMx/posts\n  Params:  {'limit': 5, 'fields': 'id,message,created_time', 'summary': 'true'}\n\n  Status:  400\n  Response:\n    {\n      \"error\": {\n        \"message\": \"(#10) This endpoint requires the 'pages_read_engagement' permission or the 'Page Public Content Access' feature. Refer to https://developers.facebook.com/docs/apps/review/login-permissions#manage-pages and https://developers.facebook.com/docs/apps/review/feature#reference-PAGES_ACCESS for details.\",\n        \"type\": \"OAuthException\",\n        \"code\": 10,\n        \"fbtrace_id\": \"A6J-0sah6ry4YB5p3CoEVgZ\"\n      }\n    }\n"
     ]
    }
   ],
   "source": [
    "page_id = \"CocaColaMx\"\n",
    "page = Page(page_id)\n",
    "\n",
    "posts = page.get_posts(fields=[\"id\", \"message\", \"created_time\"], params={\"limit\": 5})\n",
    "\n",
    "for post in posts:\n",
    "    print(post)"
   ]
  },
  {
   "cell_type": "code",
   "execution_count": 4,
   "id": "995c0c11-bcbd-434f-a7ee-5a2762dabac1",
   "metadata": {},
   "outputs": [],
   "source": [
    "facebook_links = [\n",
    "    \"https://www.facebook.com/CocaColaMx/?locale=es_LA\",\n",
    "    \"https://www.facebook.com/CocaColaMx/\",\n",
    "    \"https://www.facebook.com/cocacolafemsamexico/?locale=es_LA\",\n",
    "    \"https://www.facebook.com/TheCocaColaCo/\",\n",
    "    \"https://www.facebook.com/CocaColaUnitedStates/\",\n",
    "    \"https://www.facebook.com/Coca-Cola/\"\n",
    "]\n",
    "\n",
    "def extract_username(url):\n",
    "    match = re.search(r\"facebook\\.com/([^/?]+)\", url)\n",
    "    return match.group(1) if match else None\n",
    "\n",
    "usernames = list(set(filter(None, [extract_username(link) for link in facebook_links])))\n",
    "\n",
    "def get_page_id(username, access_token):\n",
    "    url = f\"https://graph.facebook.com/v21.0/{username}?fields=id&access_token={access_token}\"\n",
    "    response = requests.get(url).json()\n",
    "    return response.get(\"id\")"
   ]
  },
  {
   "cell_type": "code",
   "execution_count": 5,
   "id": "f3581d8e-d8d5-4775-a826-78db4ac19d95",
   "metadata": {},
   "outputs": [],
   "source": [
    "def get_page_posts(page_id):\n",
    "    try:\n",
    "        page = Page(page_id)\n",
    "        posts = page.get_posts(\n",
    "            fields=[\n",
    "                \"id\", \"message\", \"created_time\", \n",
    "                \"reactions.summary(true)\", \"comments.summary(true)\", \n",
    "                \"shares\", \"permalink_url\"\n",
    "            ],\n",
    "            params={\"limit\": 5}\n",
    "        )\n",
    "        post_data = []\n",
    "        for post in posts:\n",
    "            post_data.append({\n",
    "                \"id\": post.get(\"id\"),\n",
    "                \"message\": post.get(\"message\"),\n",
    "                \"created_time\": post.get(\"created_time\"),\n",
    "                \"likes\": post.get(\"reactions\", {}).get(\"summary\", {}).get(\"total_count\", 0),\n",
    "                \"comments\": post.get(\"comments\", {}).get(\"summary\", {}).get(\"total_count\", 0),\n",
    "                \"shares\": post.get(\"shares\", {}).get(\"count\", 0),\n",
    "                \"link\": post.get(\"permalink_url\")\n",
    "            })\n",
    "        return post_data\n",
    "    except Exception as e:\n",
    "        return {\"error\": str(e)}"
   ]
  },
  {
   "cell_type": "code",
   "execution_count": 7,
   "id": "89a8fa6b-cefa-4e72-9de4-5c555f3021a9",
   "metadata": {},
   "outputs": [],
   "source": [
    "result_data = {}\n",
    "for username in usernames:\n",
    "    page_id = get_page_id(username, my_access_token)\n",
    "    if page_id:\n",
    "        result_data[username] = get_page_posts(page_id)\n",
    "        print(page_id)\n",
    "    else:\n",
    "        result_data[username] = {\"error\": \"No se pudo obtener el ID de la página\"}\n"
   ]
  },
  {
   "cell_type": "code",
   "execution_count": 8,
   "id": "e27b8801-a490-4388-a4c6-d43a69f8576d",
   "metadata": {},
   "outputs": [
    {
     "name": "stdout",
     "output_type": "stream",
     "text": [
      "Datos guardados en facebook_posts.json\n"
     ]
    }
   ],
   "source": [
    "with open(\"facebook_posts.json\", \"w\", encoding=\"utf-8\") as file:\n",
    "    json.dump(result_data, file, ensure_ascii=False, indent=4)\n",
    "\n",
    "print(\"Datos guardados en facebook_posts.json\")"
   ]
  },
  {
   "cell_type": "code",
   "execution_count": null,
   "id": "798e4578-67a9-41a8-8fef-b99aa5ab0cc2",
   "metadata": {},
   "outputs": [],
   "source": []
  }
 ],
 "metadata": {
  "kernelspec": {
   "display_name": "Python 3 (ipykernel)",
   "language": "python",
   "name": "python3"
  },
  "language_info": {
   "codemirror_mode": {
    "name": "ipython",
    "version": 3
   },
   "file_extension": ".py",
   "mimetype": "text/x-python",
   "name": "python",
   "nbconvert_exporter": "python",
   "pygments_lexer": "ipython3",
   "version": "3.12.8"
  }
 },
 "nbformat": 4,
 "nbformat_minor": 5
}
